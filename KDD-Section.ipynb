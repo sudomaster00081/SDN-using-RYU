{
 "cells": [
  {
   "cell_type": "code",
   "execution_count": null,
   "metadata": {},
   "outputs": [],
   "source": [
    "!pip install tqdm\n"
   ]
  },
  {
   "cell_type": "code",
   "execution_count": null,
   "metadata": {},
   "outputs": [],
   "source": [
    "print(\"KDD-Section\")"
   ]
  },
  {
   "cell_type": "code",
   "execution_count": 1,
   "metadata": {},
   "outputs": [
    {
     "name": "stdout",
     "output_type": "stream",
     "text": [
      "reading FlowStatsfile.csv\n",
      "Done readingFlowStatsfile.csv\n"
     ]
    }
   ],
   "source": [
    "import pandas as pd\n",
    "import os\n",
    "from tqdm import tqdm\n",
    "\n",
    "# Load the dataset\n",
    "file_path = 'FlowStatsfile.csv'\n",
    "print(f\"reading {file_path}\")\n",
    "df = pd.read_csv(file_path)\n",
    "print(f\"Done reading{file_path}\")\n",
    "\n",
    "\n",
    "\n"
   ]
  },
  {
   "cell_type": "code",
   "execution_count": 21,
   "metadata": {},
   "outputs": [
    {
     "name": "stdout",
     "output_type": "stream",
     "text": [
      "reading ddostrace.to-victim.20070804_140936_FlowStatsfile.csv\n",
      "Done readingddostrace.to-victim.20070804_140936_FlowStatsfile.csv\n"
     ]
    }
   ],
   "source": [
    "import pandas as pd\n",
    "import os\n",
    "from tqdm import tqdm\n",
    "\n",
    "# Load the dataset\n",
    "file_path = 'ddostrace.to-victim.20070804_140936_FlowStatsfile.csv'\n",
    "print(f\"reading {file_path}\")\n",
    "df1 = pd.read_csv(file_path)\n",
    "print(f\"Done reading{file_path}\")"
   ]
  },
  {
   "cell_type": "code",
   "execution_count": 2,
   "metadata": {},
   "outputs": [],
   "source": [
    "storeddf = df"
   ]
  },
  {
   "cell_type": "code",
   "execution_count": 19,
   "metadata": {},
   "outputs": [],
   "source": [
    "df = storeddf"
   ]
  },
  {
   "cell_type": "code",
   "execution_count": 28,
   "metadata": {},
   "outputs": [],
   "source": [
    "df = df1\n"
   ]
  },
  {
   "cell_type": "code",
   "execution_count": 29,
   "metadata": {},
   "outputs": [
    {
     "name": "stderr",
     "output_type": "stream",
     "text": [
      "Splitting data:  41%|██████████████████████████████▌                                            | 122/299 [00:01<00:01, 158.72it/s]"
     ]
    },
    {
     "name": "stdout",
     "output_type": "stream",
     "text": [
      "Saved flow_data_0001.csv with 24 records\n",
      "Saved flow_data_0002.csv with 11 records\n",
      "Saved flow_data_0003.csv with 11 records\n",
      "Saved flow_data_0004.csv with 22 records\n",
      "Saved flow_data_0005.csv with 19 records\n",
      "Saved flow_data_0006.csv with 12 records\n",
      "Saved flow_data_0007.csv with 60 records\n",
      "Saved flow_data_0008.csv with 1 records\n",
      "Saved flow_data_0009.csv with 28 records\n",
      "Saved flow_data_0010.csv with 14 records\n",
      "Saved flow_data_0011.csv with 1 records\n",
      "Saved flow_data_0012.csv with 13 records\n",
      "Saved flow_data_0013.csv with 12 records\n",
      "Saved flow_data_0014.csv with 12 records\n",
      "Saved flow_data_0015.csv with 1 records\n",
      "Saved flow_data_0016.csv with 51 records\n",
      "Saved flow_data_0017.csv with 6 records\n",
      "Saved flow_data_0018.csv with 12 records\n",
      "Saved flow_data_0019.csv with 7 records\n",
      "Saved flow_data_0020.csv with 1 records\n",
      "Saved flow_data_0021.csv with 7 records\n",
      "Saved flow_data_0022.csv with 1 records\n",
      "Saved flow_data_0023.csv with 1 records\n",
      "Saved flow_data_0024.csv with 11 records\n",
      "Saved flow_data_0025.csv with 1 records\n",
      "Saved flow_data_0026.csv with 51 records\n",
      "Saved flow_data_0027.csv with 1 records\n",
      "Saved flow_data_0028.csv with 1 records\n",
      "Saved flow_data_0029.csv with 17 records\n",
      "Saved flow_data_0030.csv with 1 records\n",
      "Saved flow_data_0031.csv with 1 records\n"
     ]
    },
    {
     "name": "stderr",
     "output_type": "stream",
     "text": [
      "Splitting data:  68%|███████████████████████████████████████████████████▏                       | 204/299 [00:01<00:00, 262.40it/s]"
     ]
    },
    {
     "name": "stdout",
     "output_type": "stream",
     "text": [
      "Saved flow_data_0032.csv with 10 records\n",
      "Saved flow_data_0033.csv with 15 records\n",
      "Saved flow_data_0034.csv with 1 records\n",
      "Saved flow_data_0035.csv with 12 records\n",
      "Saved flow_data_0036.csv with 10 records\n",
      "Saved flow_data_0037.csv with 50 records\n",
      "Saved flow_data_0038.csv with 1 records\n",
      "Saved flow_data_0039.csv with 73 records\n",
      "Saved flow_data_0040.csv with 1 records\n",
      "Saved flow_data_0041.csv with 74 records\n",
      "Saved flow_data_0042.csv with 2 records\n",
      "Saved flow_data_0043.csv with 48 records\n",
      "Saved flow_data_0044.csv with 28 records\n",
      "Saved flow_data_0045.csv with 52 records\n",
      "Saved flow_data_0046.csv with 21 records\n"
     ]
    },
    {
     "name": "stderr",
     "output_type": "stream",
     "text": [
      "Splitting data: 300it [00:01, 162.05it/s]                                                                                          "
     ]
    },
    {
     "name": "stdout",
     "output_type": "stream",
     "text": [
      "Saved flow_data_0047.csv with 53 records\n",
      "Saved flow_data_0048.csv with 22 records\n",
      "Saved flow_data_0049.csv with 53 records\n",
      "Saved flow_data_0050.csv with 22 records\n",
      "Saved flow_data_0051.csv with 9 records\n",
      "Splitting complete. 51 files created in the 'splittedkdd' directory.\n"
     ]
    },
    {
     "name": "stderr",
     "output_type": "stream",
     "text": [
      "\n"
     ]
    }
   ],
   "source": [
    "import pandas as pd\n",
    "import os\n",
    "from datetime import datetime, timedelta\n",
    "from tqdm import tqdm\n",
    "\n",
    "# Create the output directory if it doesn't exist\n",
    "output_dir = 'splittedkdd'\n",
    "os.makedirs(output_dir, exist_ok=True)\n",
    "\n",
    "# # Read the CSV file\n",
    "# print(\"Reading the CSV file...\")\n",
    "# df = pd.read_csv('flowstatfiles.csv', parse_dates=['timestamp'])\n",
    "df['timestamp'] = pd.to_datetime(df['timestamp'], format='%Y-%m-%d %H:%M:%S')\n",
    "# Sort the dataframe by timestamp\n",
    "df = df.sort_values('timestamp')\n",
    "\n",
    "# Get the start and end times\n",
    "start_time = df['timestamp'].min()\n",
    "end_time = df['timestamp'].max()\n",
    "\n",
    "# Initialize variables\n",
    "current_time = start_time\n",
    "file_counter = 1\n",
    "\n",
    "# Create a progress bar\n",
    "total_seconds = int((end_time - start_time).total_seconds())\n",
    "with tqdm(total=total_seconds, desc=\"Splitting data\") as pbar:\n",
    "\n",
    "    while current_time < end_time:\n",
    "        # Calculate the end of the 2-second interval\n",
    "        interval_end = current_time + timedelta(seconds=2)\n",
    "        \n",
    "        # Filter data for the current 2-second interval\n",
    "        interval_data = df[(df['timestamp'] >= current_time) & (df['timestamp'] < interval_end)]\n",
    "        \n",
    "        if not interval_data.empty:\n",
    "            # Generate filename\n",
    "            filename = f\"flow_data_{file_counter:04d}.csv\"\n",
    "            filepath = os.path.join(output_dir, filename)\n",
    "            \n",
    "            # Save the data to a new CSV file\n",
    "            interval_data.to_csv(filepath, index=False)\n",
    "            print(f\"Saved {filename} with {len(interval_data)} records\")\n",
    "            \n",
    "            file_counter += 1\n",
    "        \n",
    "        # Move to the next interval\n",
    "        current_time = interval_end\n",
    "        pbar.update(2)\n",
    "\n",
    "print(f\"Splitting complete. {file_counter - 1} files created in the '{output_dir}' directory.\")"
   ]
  },
  {
   "cell_type": "code",
   "execution_count": null,
   "metadata": {},
   "outputs": [],
   "source": []
  },
  {
   "cell_type": "code",
   "execution_count": null,
   "metadata": {},
   "outputs": [],
   "source": []
  },
  {
   "cell_type": "code",
   "execution_count": 30,
   "metadata": {},
   "outputs": [
    {
     "name": "stdout",
     "output_type": "stream",
     "text": [
      "Requirement already satisfied: scapy in c:\\users\\user\\envs\\msc\\lib\\site-packages (2.5.0)\n",
      "Requirement already satisfied: matplotlib in c:\\users\\user\\envs\\msc\\lib\\site-packages (3.8.2)\n",
      "Requirement already satisfied: contourpy>=1.0.1 in c:\\users\\user\\envs\\msc\\lib\\site-packages (from matplotlib) (1.2.0)\n",
      "Requirement already satisfied: cycler>=0.10 in c:\\users\\user\\envs\\msc\\lib\\site-packages (from matplotlib) (0.12.1)\n",
      "Requirement already satisfied: fonttools>=4.22.0 in c:\\users\\user\\envs\\msc\\lib\\site-packages (from matplotlib) (4.47.2)\n",
      "Requirement already satisfied: kiwisolver>=1.3.1 in c:\\users\\user\\envs\\msc\\lib\\site-packages (from matplotlib) (1.4.5)\n",
      "Requirement already satisfied: numpy<2,>=1.21 in c:\\users\\user\\envs\\msc\\lib\\site-packages (from matplotlib) (1.26.3)\n",
      "Requirement already satisfied: packaging>=20.0 in c:\\users\\user\\envs\\msc\\lib\\site-packages (from matplotlib) (23.2)\n",
      "Requirement already satisfied: pillow>=8 in c:\\users\\user\\envs\\msc\\lib\\site-packages (from matplotlib) (10.2.0)\n",
      "Requirement already satisfied: pyparsing>=2.3.1 in c:\\users\\user\\envs\\msc\\lib\\site-packages (from matplotlib) (3.1.1)\n",
      "Requirement already satisfied: python-dateutil>=2.7 in c:\\users\\user\\envs\\msc\\lib\\site-packages (from matplotlib) (2.8.2)\n",
      "Requirement already satisfied: six>=1.5 in c:\\users\\user\\envs\\msc\\lib\\site-packages (from python-dateutil>=2.7->matplotlib) (1.16.0)\n"
     ]
    }
   ],
   "source": [
    "!pip install scapy matplotlib\n"
   ]
  },
  {
   "cell_type": "code",
   "execution_count": 33,
   "metadata": {},
   "outputs": [],
   "source": [
    "import matplotlib.pyplot as plt\n",
    "from scapy.all import *\n",
    "\n",
    "def plot_packet_flow(pcap_file):\n",
    "    packets = rdpcap(pcap_file)  # Read pcap file\n",
    "    times = []\n",
    "    sizes = []\n",
    "    \n",
    "    # Extract timestamps and packet sizes\n",
    "    for pkt in packets:\n",
    "        if IP in pkt:  # Example: Filter only IP packets\n",
    "            times.append(pkt.time)\n",
    "            sizes.append(len(pkt))\n",
    "    \n",
    "    # Plotting\n",
    "    plt.figure(figsize=(12, 6))\n",
    "    plt.scatter(times, sizes, color='b', marker='o', s=5, label='Packet Size')\n",
    "    plt.xlabel('Time (seconds)')\n",
    "    plt.ylabel('Packet Size')\n",
    "    plt.title('Packet Flow Over Time')\n",
    "    plt.legend()\n",
    "    plt.grid(True)\n",
    "    plt.tight_layout()\n",
    "    plt.show()"
   ]
  },
  {
   "cell_type": "code",
   "execution_count": null,
   "metadata": {},
   "outputs": [],
   "source": [
    "\n",
    "\n",
    "# Replace 'your_pcap_file.pcap' with the path to your pcap file\n",
    "plot_packet_flow('ddostrace.to-victim.20070804_145436.pcap')\n"
   ]
  },
  {
   "cell_type": "code",
   "execution_count": 34,
   "metadata": {},
   "outputs": [
    {
     "data": {
      "image/png": "[encoded data removed]",
      "text/plain": [
       "<Figure size 1200x600 with 1 Axes>"
      ]
     },
     "metadata": {},
     "output_type": "display_data"
    }
   ],
   "source": [
    "plot_packet_flow('smlddostrace.to-victim.20070804_134936.pcap')\n"
   ]
  },
  {
   "cell_type": "code",
   "execution_count": null,
   "metadata": {},
   "outputs": [],
   "source": []
  },
  {
   "cell_type": "code",
   "execution_count": null,
   "metadata": {},
   "outputs": [],
   "source": []
  },
  {
   "cell_type": "code",
   "execution_count": null,
   "metadata": {},
   "outputs": [],
   "source": []
  },
  {
   "cell_type": "code",
   "execution_count": null,
   "metadata": {},
   "outputs": [],
   "source": []
  },
  {
   "cell_type": "code",
   "execution_count": null,
   "metadata": {},
   "outputs": [],
   "source": []
  },
  {
   "cell_type": "code",
   "execution_count": null,
   "metadata": {},
   "outputs": [],
   "source": []
  },
  {
   "cell_type": "code",
   "execution_count": null,
   "metadata": {},
   "outputs": [],
   "source": []
  },
  {
   "cell_type": "code",
   "execution_count": null,
   "metadata": {},
   "outputs": [],
   "source": []
  },
  {
   "cell_type": "code",
   "execution_count": null,
   "metadata": {},
   "outputs": [],
   "source": []
  },
  {
   "cell_type": "code",
   "execution_count": null,
   "metadata": {},
   "outputs": [],
   "source": []
  },
  {
   "cell_type": "code",
   "execution_count": null,
   "metadata": {},
   "outputs": [],
   "source": []
  },
  {
   "cell_type": "code",
   "execution_count": null,
   "metadata": {},
   "outputs": [],
   "source": []
  },
  {
   "cell_type": "code",
   "execution_count": null,
   "metadata": {},
   "outputs": [],
   "source": []
  },
  {
   "cell_type": "code",
   "execution_count": null,
   "metadata": {},
   "outputs": [],
   "source": []
  },
  {
   "cell_type": "code",
   "execution_count": null,
   "metadata": {},
   "outputs": [],
   "source": []
  },
  {
   "cell_type": "code",
   "execution_count": null,
   "metadata": {},
   "outputs": [],
   "source": []
  },
  {
   "cell_type": "code",
   "execution_count": null,
   "metadata": {},
   "outputs": [],
   "source": []
  },
  {
   "cell_type": "code",
   "execution_count": null,
   "metadata": {},
   "outputs": [],
   "source": []
  },
  {
   "cell_type": "code",
   "execution_count": null,
   "metadata": {},
   "outputs": [],
   "source": []
  }
 ],
 "metadata": {
  "kernelspec": {
   "display_name": "Python 3 (ipykernel)",
   "language": "python",
   "name": "python3"
  }
 },
 "nbformat": 4,
 "nbformat_minor": 2
}
